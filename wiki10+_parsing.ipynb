{
 "cells": [
  {
   "cell_type": "markdown",
   "metadata": {},
   "source": [
    "#### Parsing data from the wiki10+ dataset\n",
    "\n",
    "This consists of two files:\n",
    "\n",
    "* HTML content of 20,764 wikipedia articles\n",
    "* Corresponding article \"tags\"\n",
    "\n",
    "Tags are hand-labelled categories, each article can have mutiple tags"
   ]
  },
  {
   "cell_type": "markdown",
   "metadata": {},
   "source": [
    "#### Downloading / unzipping data"
   ]
  },
  {
   "cell_type": "code",
   "execution_count": 5,
   "metadata": {
    "collapsed": true
   },
   "outputs": [],
   "source": [
    "#%env WIKI10_DIR=../../data/wiki10\n",
    "#!wget 'http://nlp.uned.es/social-tagging/wiki10+/wiki10+_documents.tar.bz2' -O $WIKI10_DIR'/content.tar.bz2'\n",
    "#!wget 'http://nlp.uned.es/social-tagging/wiki10+/wiki10+_tag-data.tar.gz' -O $WIKI10_DIR'/tags.tar.gz'\n",
    "#!tar -xzC $WIKI10_DIR -f $WIKI10_DIR'/tags.tar.gz' && rm $WIKI10_DIR'/tags.tar.gz'\n",
    "#!tar -xjC $WIKI10_DIR -f $WIKI10_DIR'/content.tar.bz2' && rm $WIKI10_DIR'/content.tar.bz2'\n",
    "#!ls $WIKI10_DIR"
   ]
  },
  {
   "cell_type": "code",
   "execution_count": 6,
   "metadata": {
    "collapsed": true
   },
   "outputs": [],
   "source": [
    "import json\n",
    "from pathlib import Path\n",
    "from lxml import etree, html\n",
    "from itertools import islice\n",
    "from collections import Counter\n",
    "import matplotlib.pyplot as plt\n",
    "import numpy as np \n",
    "%matplotlib inline "
   ]
  },
  {
   "cell_type": "markdown",
   "metadata": {},
   "source": [
    "#### Parsing tag data\n",
    "This is an XML file containing meta data about each document, including the tags assigned to it"
   ]
  },
  {
   "cell_type": "code",
   "execution_count": 7,
   "metadata": {},
   "outputs": [],
   "source": [
    "DATA_DIR = Path('../../data/wiki10')\n",
    "\n",
    "DOCUMENTS_DIR = DATA_DIR / 'documents'\n",
    "TAGS_PATH = DATA_DIR / 'tag-data.xml'\n",
    "\n",
    "DOCUMENTS_OUTPUT_DIR = DATA_DIR / 'text' \n",
    "TAGS_OUTPUT_PATH = DATA_DIR / 'tags.json'"
   ]
  },
  {
   "cell_type": "code",
   "execution_count": 8,
   "metadata": {
    "collapsed": true
   },
   "outputs": [],
   "source": [
    "tag_bytes = TAGS_PATH.read_bytes()\n",
    "tag_tree = etree.fromstring(tag_bytes) "
   ]
  },
  {
   "cell_type": "markdown",
   "metadata": {},
   "source": [
    "Checking tag distribution "
   ]
  },
  {
   "cell_type": "code",
   "execution_count": 9,
   "metadata": {
    "collapsed": true
   },
   "outputs": [],
   "source": [
    "tag_count = Counter(tag for tag in tag_tree.xpath('//name/text()')) "
   ]
  },
  {
   "cell_type": "code",
   "execution_count": 10,
   "metadata": {
    "collapsed": true
   },
   "outputs": [],
   "source": [
    "tag_count_100 = tag_count.most_common(100)"
   ]
  },
  {
   "cell_type": "code",
   "execution_count": 11,
   "metadata": {},
   "outputs": [
    {
     "data": {
      "text/plain": [
       "[('wikipedia', 16715),\n",
       " ('wiki', 8681),\n",
       " ('reference', 5914),\n",
       " ('history', 3829),\n",
       " ('research', 2980),\n",
       " ('science', 2610),\n",
       " ('interesting', 2085),\n",
       " ('programming', 2062),\n",
       " ('article', 1944),\n",
       " ('people', 1901),\n",
       " ('philosophy', 1856),\n",
       " ('culture', 1803),\n",
       " ('art', 1627),\n",
       " ('politics', 1554),\n",
       " ('software', 1550),\n",
       " ('design', 1492),\n",
       " ('language', 1390),\n",
       " ('books', 1354),\n",
       " ('technology', 1338),\n",
       " ('psychology', 1293),\n",
       " ('music', 1286),\n",
       " ('development', 1241),\n",
       " ('math', 1238),\n",
       " ('theory', 1157),\n",
       " ('religion', 1149),\n",
       " ('computer', 1132),\n",
       " ('literature', 1089),\n",
       " ('business', 1058),\n",
       " ('education', 1037),\n",
       " ('writing', 1003),\n",
       " ('health', 986),\n",
       " ('definition', 949),\n",
       " ('information', 911),\n",
       " ('economics', 897),\n",
       " ('cool', 889),\n",
       " ('web', 887),\n",
       " ('mathematics', 880),\n",
       " ('encyclopedia', 858),\n",
       " ('internet', 857),\n",
       " ('articles', 819),\n",
       " ('english', 794),\n",
       " ('fun', 759),\n",
       " ('architecture', 747),\n",
       " ('book', 737),\n",
       " ('inspiration', 735),\n",
       " ('film', 725),\n",
       " ('linux', 715),\n",
       " ('reading', 715),\n",
       " ('free', 690),\n",
       " ('biography', 688),\n",
       " ('physics', 683),\n",
       " ('games', 670),\n",
       " ('work', 668),\n",
       " ('tools', 666),\n",
       " ('read', 665),\n",
       " ('-', 660),\n",
       " ('learning', 658),\n",
       " ('opensource', 636),\n",
       " ('travel', 630),\n",
       " ('info', 625),\n",
       " ('security', 608),\n",
       " ('social', 607),\n",
       " ('movies', 600),\n",
       " ('tech', 592),\n",
       " ('words', 590),\n",
       " ('list', 583),\n",
       " ('network', 581),\n",
       " ('management', 579),\n",
       " ('ideas', 571),\n",
       " ('hardware', 559),\n",
       " ('video', 552),\n",
       " ('biology', 550),\n",
       " ('media', 539),\n",
       " ('usa', 536),\n",
       " ('funny', 534),\n",
       " ('school', 524),\n",
       " ('finance', 519),\n",
       " ('computers', 518),\n",
       " ('code', 514),\n",
       " ('algorithms', 511),\n",
       " ('web2.0', 506),\n",
       " ('algorithm', 500),\n",
       " ('game', 492),\n",
       " ('artist', 487),\n",
       " ('todo', 479),\n",
       " ('graphics', 474),\n",
       " ('networking', 474),\n",
       " ('food', 473),\n",
       " ('statistics', 468),\n",
       " ('linguistics', 460),\n",
       " ('humor', 449),\n",
       " ('resources', 445),\n",
       " ('environment', 443),\n",
       " ('tv', 440),\n",
       " ('of', 437),\n",
       " ('knowledge', 435),\n",
       " ('future', 434),\n",
       " ('data', 418),\n",
       " ('sociology', 417),\n",
       " ('artists', 414)]"
      ]
     },
     "execution_count": 11,
     "metadata": {},
     "output_type": "execute_result"
    }
   ],
   "source": [
    "tag_count_100"
   ]
  },
  {
   "cell_type": "markdown",
   "metadata": {},
   "source": [
    "Excluding some generic tags"
   ]
  },
  {
   "cell_type": "code",
   "execution_count": 12,
   "metadata": {
    "collapsed": true
   },
   "outputs": [],
   "source": [
    "excluded_tags = {'wikipedia', 'wiki','reference', 'research', 'interesting', 'article', \n",
    "                      'definition', 'information', 'cool', '-', 'free', 'fun','articles', 'inspiration', \n",
    "                       'encyclopedia', 'tools', 'read', 'work', 'learning', 'info', 'social', 'words'\n",
    "                       'list', 'ideas', 'todo', 'humor', 'of', 'future', 'data'}"
   ]
  },
  {
   "cell_type": "code",
   "execution_count": 13,
   "metadata": {
    "collapsed": true
   },
   "outputs": [],
   "source": [
    "categories = {tag for tag, _ in tag_count_100 if tag not in excluded_tags} "
   ]
  },
  {
   "cell_type": "code",
   "execution_count": 14,
   "metadata": {},
   "outputs": [
    {
     "data": {
      "text/plain": [
       "73"
      ]
     },
     "execution_count": 14,
     "metadata": {},
     "output_type": "execute_result"
    }
   ],
   "source": [
    "len(categories) "
   ]
  },
  {
   "cell_type": "markdown",
   "metadata": {},
   "source": [
    "Parse tag XML:\n",
    "\n",
    "* Filter tags which are not in category list\n",
    "* Tag value stored the proportion of users which assigned this tag to this document\n",
    "* Store result as json "
   ]
  },
  {
   "cell_type": "code",
   "execution_count": 18,
   "metadata": {},
   "outputs": [],
   "source": [
    "tag_dict = {} \n",
    "for document in tag_tree.xpath('/articles/article'):\n",
    "    record = {} \n",
    "    if len(document) > 2: # skip documents with missing data\n",
    "        record_id = document.xpath('hash/text()')[0]\n",
    "        record['title'] = document.xpath('title/text()')[0]\n",
    "        record['user_count'] = document.xpath('users/text()')[0]\n",
    "        record['tags'] = {} \n",
    "        for tag in document.xpath('.//tag'):\n",
    "            tag_name, tag_count = tag.xpath('./*/text()')\n",
    "            if tag_name in categories:\n",
    "                record['tags'][tag_name] = float(tag_count) / float(record['user_count']) \n",
    "        if record['tags']: # check we have found tags in category list\n",
    "            tag_dict[record_id] = record\n",
    "            \n",
    "with TAGS_OUTPUT_PATH.open('w') as output_file:\n",
    "    json.dump(tag_dict, output_file) "
   ]
  },
  {
   "cell_type": "markdown",
   "metadata": {
    "collapsed": true
   },
   "source": [
    "#### Parsing text data\n",
    "This is a series of HTML documents, one per Wikipedia article. We will extract the text from the HTML, and filter documents which do not contain any of the tags in our new categories list. "
   ]
  },
  {
   "cell_type": "code",
   "execution_count": 20,
   "metadata": {},
   "outputs": [],
   "source": [
    "filtered_ids = tag_dict.keys()"
   ]
  },
  {
   "cell_type": "code",
   "execution_count": 21,
   "metadata": {},
   "outputs": [
    {
     "data": {
      "text/plain": [
       "19691"
      ]
     },
     "execution_count": 21,
     "metadata": {},
     "output_type": "execute_result"
    }
   ],
   "source": [
    "len(filtered_ids) "
   ]
  },
  {
   "cell_type": "code",
   "execution_count": null,
   "metadata": {
    "collapsed": true
   },
   "outputs": [],
   "source": [
    "for document in DOCUMENTS_DIR.iterdir():\n",
    "    document_id = document.name\n",
    "    if document_id in filtered_ids:\n",
    "        html_bytes = document.read_bytes()\n",
    "        html_tree = html.fromstring(html_bytes)\n",
    "        html_text = ' '.join(p.text_content() for p in html_tree.xpath('//p')).lower()\n",
    "        OUTPUT_PATH = DOCUMENTS_OUTPUT_DIR / document.name\n",
    "        OUTPUT_PATH.write_text(html_text)"
   ]
  }
 ],
 "metadata": {
  "kernelspec": {
   "display_name": "Python 3",
   "language": "python",
   "name": "python3"
  },
  "language_info": {
   "codemirror_mode": {
    "name": "ipython",
    "version": 3
   },
   "file_extension": ".py",
   "mimetype": "text/x-python",
   "name": "python",
   "nbconvert_exporter": "python",
   "pygments_lexer": "ipython3",
   "version": "3.6.3"
  }
 },
 "nbformat": 4,
 "nbformat_minor": 2
}
