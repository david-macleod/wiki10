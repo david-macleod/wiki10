{
 "cells": [
  {
   "cell_type": "markdown",
   "metadata": {},
   "source": [
    "Simple baseline to compare spaCy document classification models against"
   ]
  },
  {
   "cell_type": "code",
   "execution_count": 19,
   "metadata": {},
   "outputs": [],
   "source": [
    "from __future__ import division \n",
    "from sklearn.feature_extraction.text import CountVectorizer\n",
    "from sklearn.naive_bayes import MultinomialNB\n",
    "from sklearn.feature_selection import chi2, SelectKBest\n",
    "from sklearn.model_selection import GridSearchCV, KFold, cross_val_score, train_test_split\n",
    "from sklearn.pipeline import Pipeline\n",
    "from sklearn.preprocessing import binarize \n",
    "from sklearn import metrics \n",
    "from itertools import islice\n",
    "from pathlib import Path \n",
    "import pandas as pd \n",
    "import re\n",
    "import string"
   ]
  },
  {
   "cell_type": "code",
   "execution_count": 8,
   "metadata": {},
   "outputs": [],
   "source": [
    "DATA_DIR = Path('../../data/wiki10')\n",
    "TEXT_DIR = DATA_DIR / 'text' \n",
    "LABELS_PATH = DATA_DIR / 'clf0-singlelabel.csv'"
   ]
  },
  {
   "cell_type": "markdown",
   "metadata": {},
   "source": [
    "Load data"
   ]
  },
  {
   "cell_type": "code",
   "execution_count": 22,
   "metadata": {},
   "outputs": [],
   "source": [
    "df = pd.read_csv(CLF_LABELS_PATH)\n",
    "y = df.tag\n",
    "texts = [TEXT_DIR.joinpath(id).read_text() for id in df.id]"
   ]
  },
  {
   "cell_type": "code",
   "execution_count": 14,
   "metadata": {},
   "outputs": [],
   "source": [
    "def tokenizer(text):\n",
    "    return re.sub(f'([{string.punctuation}])', r' \\1 ', text.lower()).split()"
   ]
  },
  {
   "cell_type": "markdown",
   "metadata": {},
   "source": [
    "Creating sparse feature matrix and split into test/train sets (also split input text for easy reference/model debugging)"
   ]
  },
  {
   "cell_type": "code",
   "execution_count": 72,
   "metadata": {},
   "outputs": [],
   "source": [
    "cvec = CountVectorizer(tokenizer=tokenizer, min_df=3, stop_words='english')\n",
    "X = cvec.fit_transform(texts)\n",
    "\n",
    "X_train, X_test, y_train, y_test, text_train, text_test = train_test_split(X, y, texts, test_size = 0.3, random_state = 0)"
   ]
  },
  {
   "cell_type": "markdown",
   "metadata": {},
   "source": [
    "Define simple training pipeline, using chi-squared feature selection"
   ]
  },
  {
   "cell_type": "code",
   "execution_count": 65,
   "metadata": {},
   "outputs": [
    {
     "data": {
      "text/plain": [
       "Pipeline(memory=None,\n",
       "     steps=[('kbest_feat', SelectKBest(k=2500, score_func=<function chi2 at 0x7f2fdd580d90>)), ('classifier', MultinomialNB(alpha=1.0, class_prior=None, fit_prior=True))])"
      ]
     },
     "execution_count": 65,
     "metadata": {},
     "output_type": "execute_result"
    }
   ],
   "source": [
    "pipeline = Pipeline([\n",
    "    ('kbest_feat', SelectKBest(chi2, k=2500)), \n",
    "    ('classifier', MultinomialNB()) \n",
    "    ])\n",
    "\n",
    "pipeline.fit(X_train, y_train)"
   ]
  },
  {
   "cell_type": "code",
   "execution_count": 66,
   "metadata": {},
   "outputs": [],
   "source": [
    "labels = pipeline.classes_"
   ]
  },
  {
   "cell_type": "code",
   "execution_count": 67,
   "metadata": {},
   "outputs": [
    {
     "name": "stdout",
     "output_type": "stream",
     "text": [
      "             precision    recall  f1-score   support\n",
      "\n",
      "       food       0.98      0.98      0.98        97\n",
      "       math       0.99      0.95      0.97       100\n",
      "      music       0.96      0.94      0.95        83\n",
      "   politics       0.91      0.95      0.93        93\n",
      "   religion       0.92      0.95      0.94        85\n",
      "   software       0.93      0.91      0.92        82\n",
      "\n",
      "avg / total       0.95      0.95      0.95       540\n",
      "\n"
     ]
    }
   ],
   "source": [
    "pred_y_test = pipeline.predict(X_test) \n",
    "\n",
    "print(metrics.classification_report(y_test, pred_y_test))"
   ]
  },
  {
   "cell_type": "code",
   "execution_count": 68,
   "metadata": {},
   "outputs": [],
   "source": [
    "def confusion_df(y_true, y_pred, labels):\n",
    "    confusion_df = pd.DataFrame(metrics.confusion_matrix(y_true, y_pred, labels=labels), columns=labels, index=labels)\n",
    "    confusion_df.columns.name = 'predicted'\n",
    "    confusion_df.index.name = 'actual'\n",
    "    return confusion_df"
   ]
  },
  {
   "cell_type": "code",
   "execution_count": 69,
   "metadata": {},
   "outputs": [
    {
     "data": {
      "text/html": [
       "<div>\n",
       "<style>\n",
       "    .dataframe thead tr:only-child th {\n",
       "        text-align: right;\n",
       "    }\n",
       "\n",
       "    .dataframe thead th {\n",
       "        text-align: left;\n",
       "    }\n",
       "\n",
       "    .dataframe tbody tr th {\n",
       "        vertical-align: top;\n",
       "    }\n",
       "</style>\n",
       "<table border=\"1\" class=\"dataframe\">\n",
       "  <thead>\n",
       "    <tr style=\"text-align: right;\">\n",
       "      <th>predicted</th>\n",
       "      <th>food</th>\n",
       "      <th>math</th>\n",
       "      <th>music</th>\n",
       "      <th>politics</th>\n",
       "      <th>religion</th>\n",
       "      <th>software</th>\n",
       "    </tr>\n",
       "    <tr>\n",
       "      <th>actual</th>\n",
       "      <th></th>\n",
       "      <th></th>\n",
       "      <th></th>\n",
       "      <th></th>\n",
       "      <th></th>\n",
       "      <th></th>\n",
       "    </tr>\n",
       "  </thead>\n",
       "  <tbody>\n",
       "    <tr>\n",
       "      <th>food</th>\n",
       "      <td>95</td>\n",
       "      <td>0</td>\n",
       "      <td>0</td>\n",
       "      <td>2</td>\n",
       "      <td>0</td>\n",
       "      <td>0</td>\n",
       "    </tr>\n",
       "    <tr>\n",
       "      <th>math</th>\n",
       "      <td>0</td>\n",
       "      <td>95</td>\n",
       "      <td>1</td>\n",
       "      <td>2</td>\n",
       "      <td>1</td>\n",
       "      <td>1</td>\n",
       "    </tr>\n",
       "    <tr>\n",
       "      <th>music</th>\n",
       "      <td>0</td>\n",
       "      <td>0</td>\n",
       "      <td>78</td>\n",
       "      <td>0</td>\n",
       "      <td>0</td>\n",
       "      <td>5</td>\n",
       "    </tr>\n",
       "    <tr>\n",
       "      <th>politics</th>\n",
       "      <td>0</td>\n",
       "      <td>0</td>\n",
       "      <td>0</td>\n",
       "      <td>88</td>\n",
       "      <td>5</td>\n",
       "      <td>0</td>\n",
       "    </tr>\n",
       "    <tr>\n",
       "      <th>religion</th>\n",
       "      <td>1</td>\n",
       "      <td>0</td>\n",
       "      <td>1</td>\n",
       "      <td>2</td>\n",
       "      <td>81</td>\n",
       "      <td>0</td>\n",
       "    </tr>\n",
       "    <tr>\n",
       "      <th>software</th>\n",
       "      <td>1</td>\n",
       "      <td>1</td>\n",
       "      <td>1</td>\n",
       "      <td>3</td>\n",
       "      <td>1</td>\n",
       "      <td>75</td>\n",
       "    </tr>\n",
       "  </tbody>\n",
       "</table>\n",
       "</div>"
      ],
      "text/plain": [
       "predicted  food  math  music  politics  religion  software\n",
       "actual                                                    \n",
       "food         95     0      0         2         0         0\n",
       "math          0    95      1         2         1         1\n",
       "music         0     0     78         0         0         5\n",
       "politics      0     0      0        88         5         0\n",
       "religion      1     0      1         2        81         0\n",
       "software      1     1      1         3         1        75"
      ]
     },
     "execution_count": 69,
     "metadata": {},
     "output_type": "execute_result"
    }
   ],
   "source": [
    "confusion_df(y_test, pred_y_test, labels)"
   ]
  },
  {
   "cell_type": "markdown",
   "metadata": {},
   "source": [
    "Cross-validating result to check variance across multiple train folds"
   ]
  },
  {
   "cell_type": "code",
   "execution_count": 70,
   "metadata": {},
   "outputs": [
    {
     "data": {
      "text/plain": [
       "array([ 0.94177035,  0.9501224 ,  0.93900446,  0.96123971,  0.96394791])"
      ]
     },
     "execution_count": 70,
     "metadata": {},
     "output_type": "execute_result"
    }
   ],
   "source": [
    "cross_val_score(pipeline, X, y, cv=5, scoring='f1_weighted')"
   ]
  },
  {
   "cell_type": "markdown",
   "metadata": {},
   "source": [
    "Investigating a few incorrect predictions"
   ]
  },
  {
   "cell_type": "code",
   "execution_count": 74,
   "metadata": {},
   "outputs": [
    {
     "data": {
      "text/html": [
       "<div>\n",
       "<style>\n",
       "    .dataframe thead tr:only-child th {\n",
       "        text-align: right;\n",
       "    }\n",
       "\n",
       "    .dataframe thead th {\n",
       "        text-align: left;\n",
       "    }\n",
       "\n",
       "    .dataframe tbody tr th {\n",
       "        vertical-align: top;\n",
       "    }\n",
       "</style>\n",
       "<table border=\"1\" class=\"dataframe\">\n",
       "  <thead>\n",
       "    <tr style=\"text-align: right;\">\n",
       "      <th></th>\n",
       "      <th>text</th>\n",
       "      <th>y_pred</th>\n",
       "      <th>y_true</th>\n",
       "    </tr>\n",
       "  </thead>\n",
       "  <tbody>\n",
       "    <tr>\n",
       "      <th>597</th>\n",
       "      <td>In trigonometry and geometry, triangulation is...</td>\n",
       "      <td>math</td>\n",
       "      <td>math</td>\n",
       "    </tr>\n",
       "    <tr>\n",
       "      <th>831</th>\n",
       "      <td>John Leslie \"Wes\" Montgomery (6 March 1923 - 1...</td>\n",
       "      <td>music</td>\n",
       "      <td>music</td>\n",
       "    </tr>\n",
       "    <tr>\n",
       "      <th>1174</th>\n",
       "      <td>The Industrial Workers of the World (IWW or th...</td>\n",
       "      <td>politics</td>\n",
       "      <td>politics</td>\n",
       "    </tr>\n",
       "    <tr>\n",
       "      <th>467</th>\n",
       "      <td>In mathematics a graph is an abstract represen...</td>\n",
       "      <td>math</td>\n",
       "      <td>math</td>\n",
       "    </tr>\n",
       "    <tr>\n",
       "      <th>1722</th>\n",
       "      <td>ArcGIS is a suite consisting of a group of geo...</td>\n",
       "      <td>software</td>\n",
       "      <td>software</td>\n",
       "    </tr>\n",
       "  </tbody>\n",
       "</table>\n",
       "</div>"
      ],
      "text/plain": [
       "                                                   text    y_pred    y_true\n",
       "597   In trigonometry and geometry, triangulation is...      math      math\n",
       "831   John Leslie \"Wes\" Montgomery (6 March 1923 - 1...     music     music\n",
       "1174  The Industrial Workers of the World (IWW or th...  politics  politics\n",
       "467   In mathematics a graph is an abstract represen...      math      math\n",
       "1722  ArcGIS is a suite consisting of a group of geo...  software  software"
      ]
     },
     "execution_count": 74,
     "metadata": {},
     "output_type": "execute_result"
    }
   ],
   "source": [
    "df_test = pd.DataFrame({'text': text_test, 'y_true': y_test, 'y_pred': pred_y_test})\n",
    "\n",
    "df_test.head()"
   ]
  },
  {
   "cell_type": "code",
   "execution_count": 79,
   "metadata": {},
   "outputs": [
    {
     "data": {
      "text/html": [
       "<div>\n",
       "<style>\n",
       "    .dataframe thead tr:only-child th {\n",
       "        text-align: right;\n",
       "    }\n",
       "\n",
       "    .dataframe thead th {\n",
       "        text-align: left;\n",
       "    }\n",
       "\n",
       "    .dataframe tbody tr th {\n",
       "        vertical-align: top;\n",
       "    }\n",
       "</style>\n",
       "<table border=\"1\" class=\"dataframe\">\n",
       "  <thead>\n",
       "    <tr style=\"text-align: right;\">\n",
       "      <th></th>\n",
       "      <th>text</th>\n",
       "      <th>y_pred</th>\n",
       "      <th>y_true</th>\n",
       "    </tr>\n",
       "  </thead>\n",
       "  <tbody>\n",
       "    <tr>\n",
       "      <th>1558</th>\n",
       "      <td>Google Street View is a feature of Google Maps...</td>\n",
       "      <td>politics</td>\n",
       "      <td>software</td>\n",
       "    </tr>\n",
       "    <tr>\n",
       "      <th>1637</th>\n",
       "      <td>The following is a list of notable feed aggreg...</td>\n",
       "      <td>food</td>\n",
       "      <td>software</td>\n",
       "    </tr>\n",
       "    <tr>\n",
       "      <th>1565</th>\n",
       "      <td>In aviation, V-speeds or Velocity-speeds are s...</td>\n",
       "      <td>politics</td>\n",
       "      <td>software</td>\n",
       "    </tr>\n",
       "    <tr>\n",
       "      <th>1507</th>\n",
       "      <td>BitTorrent may refer to:</td>\n",
       "      <td>religion</td>\n",
       "      <td>software</td>\n",
       "    </tr>\n",
       "    <tr>\n",
       "      <th>1676</th>\n",
       "      <td>In the theory of computation, a nondeterminist...</td>\n",
       "      <td>math</td>\n",
       "      <td>software</td>\n",
       "    </tr>\n",
       "    <tr>\n",
       "      <th>1623</th>\n",
       "      <td>A photo booth is a vending machine or modern k...</td>\n",
       "      <td>music</td>\n",
       "      <td>software</td>\n",
       "    </tr>\n",
       "    <tr>\n",
       "      <th>1616</th>\n",
       "      <td>The Indian Institutes of Technology (IITs), ar...</td>\n",
       "      <td>politics</td>\n",
       "      <td>software</td>\n",
       "    </tr>\n",
       "  </tbody>\n",
       "</table>\n",
       "</div>"
      ],
      "text/plain": [
       "                                                   text    y_pred    y_true\n",
       "1558  Google Street View is a feature of Google Maps...  politics  software\n",
       "1637  The following is a list of notable feed aggreg...      food  software\n",
       "1565  In aviation, V-speeds or Velocity-speeds are s...  politics  software\n",
       "1507                           BitTorrent may refer to:  religion  software\n",
       "1676  In the theory of computation, a nondeterminist...      math  software\n",
       "1623  A photo booth is a vending machine or modern k...     music  software\n",
       "1616  The Indian Institutes of Technology (IITs), ar...  politics  software"
      ]
     },
     "execution_count": 79,
     "metadata": {},
     "output_type": "execute_result"
    }
   ],
   "source": [
    "software_fn = df_test.loc[(df_test.y_pred != df_test.y_true) & (df_test.y_true == 'software')]\n",
    "\n",
    "software_fn"
   ]
  },
  {
   "cell_type": "code",
   "execution_count": 83,
   "metadata": {},
   "outputs": [
    {
     "name": "stdout",
     "output_type": "stream",
     "text": [
      "politics\n",
      "Google Street View is a feature of Google Maps and Google Earth that provides for many streets in the world 360° horizontal and 290° vertical panoramic views from a row of positions along the street (one in every 10 or 20 metres, or so), from a height of about two metres. It was launched on May 25, 2007, and is gradually expanded to include more cities, and in these cities more streets, and also some rural areas. These photographs are currently available for countries including the United States, the United Kingdom, the Netherlands, France, Italy, Spain, Australia, New Zealand and Japan. Coverage is shown by dragging \"pegman\" from its position, on a map of any scale. Google Street View displays photos taken from a fleet of Chevrolet Cobalts in United States, Opel Astras in Europe and Australia, Vauxhall Astras in the United Kingdom and Toyota Prius cars in Japan. Pedestrian areas, narrow streets and park alleys that cannot be accessed by car are not always covered. However, sometimes G\n",
      "\n",
      "food\n",
      "The following is a list of notable feed aggregators.       \n",
      "\n",
      "politics\n",
      "In aviation, V-speeds or Velocity-speeds are standard terms used to define airspeeds important or useful to the operation of aircraft, such as airplanes, gliders, autogiros, helicopters, blimps, and dirigibles.[1] These speeds are derived from data obtained by aircraft designers and manufacturers during flight testing and verified in most countries by government flight inspectors during aircraft type-certification testing. Using them is considered a best practice to maximize aviation safety, aircraft performance or both.[2] The actual speeds represented by these designators are true airspeeds specific to a particular model of aircraft, and are expressed in terms of the aircraft's indicated airspeed, so that pilots may use them directly, without having to apply correction factors. In general aviation aircraft, the most commonly-used and most safety-critical airspeeds are displayed as color-coded arcs and lines located on the face of an aircraft's airspeed indicator. The lower ends of th\n",
      "\n",
      "religion\n",
      "BitTorrent may refer to:\n",
      "\n",
      "math\n",
      "In the theory of computation, a nondeterministic finite state machine or nondeterministic finite automaton (NFA) is a finite state machine where for each pair of state and input symbol there may be several possible next states. This distinguishes it from the deterministic finite automaton (DFA), where the next possible state is uniquely determined. Although the DFA and NFA have distinct definitions, it may be shown in the formal theory that they are equivalent, in that, for any given NFA, one may construct an equivalent DFA, and vice-versa: this is the powerset construction. Both types of automata recognize only regular languages. Non-deterministic finite state machines are sometimes studied by the name subshifts of finite type. Non-deterministic finite state machines are generalized by probabilistic automata, which assign a probability to each state transition. Nondeterministic finite automata were introduced by Michael O. Rabin and Dana Scott in 1959[1], who showed their equivalence \n",
      "\n",
      "music\n",
      "A photo booth is a vending machine or modern kiosk that contains an automated, usually coin-operated, camera and film processor. Today the vast majority of photo booths are digital. Traditionally photo booths contain a seat or bench designed to seat the one or two patrons being photographed. Once the payment is made, the photo booth will take a series of photographs (though most modern booths may only take a single photograph and print out a series of identical pictures). Before each photograph, there will be an indication, such as a light or a buzzer, that will signal the patron to prepare their pose. After the last photograph in the series (typically between 3 and 8) has been taken, the photo booth begins developing the film, which whilst it used to take several minutes in the old 'wet chemistry' booths, now with digital technology will take typically about 30 seconds and then deliver the strip of prints. Typical dimensions of these prints vary. The classic and most familiar arrangem\n",
      "\n",
      "politics\n",
      "The Indian Institutes of Technology (IITs), are a group of thirteen autonomous engineering and technology-oriented institutes of higher education established and declared as Institutes of National Importance by the Parliament of India. The IITs were created to train scientists and engineers, with the aim of developing a skilled workforce to support the economic and social development of India after independence in 1947. The students and alumni of IITs are colloquially referred to as IITians. In order of establishment they are located in Kharagpur (1950; as IIT 1951[1]), Mumbai (1958), Chennai (1959), Kanpur (1959), Delhi (1961; as IIT 1963), Guwahati (1994), Roorkee (1847; as IIT 2001), Bhubaneswar (2008), Gandhinagar (2008), Hyderabad (2008), Patna (2008), Punjab (2008) and Rajasthan (2008). The Government of India has announced plans to add three more IITs, to be established at Indore, Mandi and Varanasi (via conversion of the IT BHU). Some IITs were established with financial assist\n",
      "\n"
     ]
    }
   ],
   "source": [
    "for _, row in software_fn.iterrows():\n",
    "    print(row['y_pred'])\n",
    "    print(row['text'][:1000], end='\\n\\n')"
   ]
  },
  {
   "cell_type": "markdown",
   "metadata": {},
   "source": [
    "Most of these mis-classifications are understandable, it seems that \"geography\" related documents are being associated with politics so in the case of software articles that contain a lot of place names, we get a false negative.\n",
    "\n",
    "Also note that some of the articles are very short, this is likely due to the html parsing only picking up `<p>` tags, when useful text will exist in other tags, for instance in both examples here with truncated text appear to be lists so may be `<ul>` or `<ol>` tags. This may also go some way to explaining the doc2vec clusters for \"list\" articles noticed in 03_doc2vec_evaluate.\n",
    "\n",
    "For now this result is fine as a baseline, and will use it for validating our spaCy models, before training on more complex inputs."
   ]
  }
 ],
 "metadata": {
  "kernelspec": {
   "display_name": "Python 3",
   "language": "python",
   "name": "python3"
  },
  "language_info": {
   "codemirror_mode": {
    "name": "ipython",
    "version": 3
   },
   "file_extension": ".py",
   "mimetype": "text/x-python",
   "name": "python",
   "nbconvert_exporter": "python",
   "pygments_lexer": "ipython3",
   "version": "3.6.3"
  }
 },
 "nbformat": 4,
 "nbformat_minor": 2
}
